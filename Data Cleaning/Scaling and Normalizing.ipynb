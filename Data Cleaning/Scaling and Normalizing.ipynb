{
 "cells": [
  {
   "cell_type": "markdown",
   "metadata": {},
   "source": [
    "# Scaling and Normalizing\n",
    "\n",
    "##### Author : Chintamani Madhukar Kasture"
   ]
  },
  {
   "cell_type": "code",
   "execution_count": 1,
   "metadata": {},
   "outputs": [],
   "source": [
    "import pandas as pd\n",
    "import numpy as np\n",
    "# for Box_cox Tranformation which is done to transform \n",
    "#non-norman dependent variales isto normal shape\n",
    "from scipy import stats\n",
    "\n",
    "# for minmax scaling\n",
    "from mlxtend.preprocessing import minmax_scaling\n",
    "\n",
    "import seaborn as sns\n",
    "import matplotlib.pyplot as plt\n"
   ]
  },
  {
   "cell_type": "code",
   "execution_count": 2,
   "metadata": {},
   "outputs": [],
   "source": [
    "dataset = pd.read_csv('ks-projects.csv')"
   ]
  },
  {
   "cell_type": "code",
   "execution_count": 3,
   "metadata": {},
   "outputs": [
    {
     "data": {
      "text/html": [
       "<div>\n",
       "<style scoped>\n",
       "    .dataframe tbody tr th:only-of-type {\n",
       "        vertical-align: middle;\n",
       "    }\n",
       "\n",
       "    .dataframe tbody tr th {\n",
       "        vertical-align: top;\n",
       "    }\n",
       "\n",
       "    .dataframe thead th {\n",
       "        text-align: right;\n",
       "    }\n",
       "</style>\n",
       "<table border=\"1\" class=\"dataframe\">\n",
       "  <thead>\n",
       "    <tr style=\"text-align: right;\">\n",
       "      <th></th>\n",
       "      <th>ID</th>\n",
       "      <th>name</th>\n",
       "      <th>category</th>\n",
       "      <th>main_category</th>\n",
       "      <th>currency</th>\n",
       "      <th>deadline</th>\n",
       "      <th>goal</th>\n",
       "      <th>launched</th>\n",
       "      <th>pledged</th>\n",
       "      <th>state</th>\n",
       "      <th>backers</th>\n",
       "      <th>country</th>\n",
       "      <th>usd pledged</th>\n",
       "      <th>usd_pledged_real</th>\n",
       "      <th>usd_goal_real</th>\n",
       "    </tr>\n",
       "  </thead>\n",
       "  <tbody>\n",
       "    <tr>\n",
       "      <th>0</th>\n",
       "      <td>1000002330</td>\n",
       "      <td>The Songs of Adelaide &amp; Abullah</td>\n",
       "      <td>Poetry</td>\n",
       "      <td>Publishing</td>\n",
       "      <td>GBP</td>\n",
       "      <td>2015-10-09</td>\n",
       "      <td>1000.0</td>\n",
       "      <td>2015-08-11 12:12:28</td>\n",
       "      <td>0.0</td>\n",
       "      <td>failed</td>\n",
       "      <td>0</td>\n",
       "      <td>GB</td>\n",
       "      <td>0.0</td>\n",
       "      <td>0.0</td>\n",
       "      <td>1533.95</td>\n",
       "    </tr>\n",
       "    <tr>\n",
       "      <th>1</th>\n",
       "      <td>1000003930</td>\n",
       "      <td>Greeting From Earth: ZGAC Arts Capsule For ET</td>\n",
       "      <td>Narrative Film</td>\n",
       "      <td>Film &amp; Video</td>\n",
       "      <td>USD</td>\n",
       "      <td>2017-11-01</td>\n",
       "      <td>30000.0</td>\n",
       "      <td>2017-09-02 04:43:57</td>\n",
       "      <td>2421.0</td>\n",
       "      <td>failed</td>\n",
       "      <td>15</td>\n",
       "      <td>US</td>\n",
       "      <td>100.0</td>\n",
       "      <td>2421.0</td>\n",
       "      <td>30000.00</td>\n",
       "    </tr>\n",
       "    <tr>\n",
       "      <th>2</th>\n",
       "      <td>1000004038</td>\n",
       "      <td>Where is Hank?</td>\n",
       "      <td>Narrative Film</td>\n",
       "      <td>Film &amp; Video</td>\n",
       "      <td>USD</td>\n",
       "      <td>2013-02-26</td>\n",
       "      <td>45000.0</td>\n",
       "      <td>2013-01-12 00:20:50</td>\n",
       "      <td>220.0</td>\n",
       "      <td>failed</td>\n",
       "      <td>3</td>\n",
       "      <td>US</td>\n",
       "      <td>220.0</td>\n",
       "      <td>220.0</td>\n",
       "      <td>45000.00</td>\n",
       "    </tr>\n",
       "    <tr>\n",
       "      <th>3</th>\n",
       "      <td>1000007540</td>\n",
       "      <td>ToshiCapital Rekordz Needs Help to Complete Album</td>\n",
       "      <td>Music</td>\n",
       "      <td>Music</td>\n",
       "      <td>USD</td>\n",
       "      <td>2012-04-16</td>\n",
       "      <td>5000.0</td>\n",
       "      <td>2012-03-17 03:24:11</td>\n",
       "      <td>1.0</td>\n",
       "      <td>failed</td>\n",
       "      <td>1</td>\n",
       "      <td>US</td>\n",
       "      <td>1.0</td>\n",
       "      <td>1.0</td>\n",
       "      <td>5000.00</td>\n",
       "    </tr>\n",
       "    <tr>\n",
       "      <th>4</th>\n",
       "      <td>1000011046</td>\n",
       "      <td>Community Film Project: The Art of Neighborhoo...</td>\n",
       "      <td>Film &amp; Video</td>\n",
       "      <td>Film &amp; Video</td>\n",
       "      <td>USD</td>\n",
       "      <td>2015-08-29</td>\n",
       "      <td>19500.0</td>\n",
       "      <td>2015-07-04 08:35:03</td>\n",
       "      <td>1283.0</td>\n",
       "      <td>canceled</td>\n",
       "      <td>14</td>\n",
       "      <td>US</td>\n",
       "      <td>1283.0</td>\n",
       "      <td>1283.0</td>\n",
       "      <td>19500.00</td>\n",
       "    </tr>\n",
       "  </tbody>\n",
       "</table>\n",
       "</div>"
      ],
      "text/plain": [
       "           ID                                               name  \\\n",
       "0  1000002330                    The Songs of Adelaide & Abullah   \n",
       "1  1000003930      Greeting From Earth: ZGAC Arts Capsule For ET   \n",
       "2  1000004038                                     Where is Hank?   \n",
       "3  1000007540  ToshiCapital Rekordz Needs Help to Complete Album   \n",
       "4  1000011046  Community Film Project: The Art of Neighborhoo...   \n",
       "\n",
       "         category main_category currency    deadline     goal  \\\n",
       "0          Poetry    Publishing      GBP  2015-10-09   1000.0   \n",
       "1  Narrative Film  Film & Video      USD  2017-11-01  30000.0   \n",
       "2  Narrative Film  Film & Video      USD  2013-02-26  45000.0   \n",
       "3           Music         Music      USD  2012-04-16   5000.0   \n",
       "4    Film & Video  Film & Video      USD  2015-08-29  19500.0   \n",
       "\n",
       "              launched  pledged     state  backers country  usd pledged  \\\n",
       "0  2015-08-11 12:12:28      0.0    failed        0      GB          0.0   \n",
       "1  2017-09-02 04:43:57   2421.0    failed       15      US        100.0   \n",
       "2  2013-01-12 00:20:50    220.0    failed        3      US        220.0   \n",
       "3  2012-03-17 03:24:11      1.0    failed        1      US          1.0   \n",
       "4  2015-07-04 08:35:03   1283.0  canceled       14      US       1283.0   \n",
       "\n",
       "   usd_pledged_real  usd_goal_real  \n",
       "0               0.0        1533.95  \n",
       "1            2421.0       30000.00  \n",
       "2             220.0       45000.00  \n",
       "3               1.0        5000.00  \n",
       "4            1283.0       19500.00  "
      ]
     },
     "execution_count": 3,
     "metadata": {},
     "output_type": "execute_result"
    }
   ],
   "source": [
    "dataset.head()"
   ]
  },
  {
   "cell_type": "code",
   "execution_count": 4,
   "metadata": {},
   "outputs": [
    {
     "data": {
      "text/plain": [
       "ID                     0\n",
       "name                   4\n",
       "category               0\n",
       "main_category          0\n",
       "currency               0\n",
       "deadline               0\n",
       "goal                   0\n",
       "launched               0\n",
       "pledged                0\n",
       "state                  0\n",
       "backers                0\n",
       "country                0\n",
       "usd pledged         3797\n",
       "usd_pledged_real       0\n",
       "usd_goal_real          0\n",
       "dtype: int64"
      ]
     },
     "execution_count": 4,
     "metadata": {},
     "output_type": "execute_result"
    }
   ],
   "source": [
    "dataset.isnull().sum()"
   ]
  },
  {
   "cell_type": "markdown",
   "metadata": {},
   "source": [
    "Let's start by scaling the goals of each campaign, which is how much money they were asking for.  The plots show a histogram of the values in the \"usd_goal_real\" column, both before and after scaling.  "
   ]
  },
  {
   "cell_type": "code",
   "execution_count": 5,
   "metadata": {},
   "outputs": [],
   "source": [
    "# here we select usd_goal_real colums\n",
    "original_data = pd.DataFrame(dataset.usd_goal_real)\n",
    "\n",
    "scaled_data = minmax_scaling(original_data,columns=['usd_goal_real'])"
   ]
  },
  {
   "cell_type": "code",
   "execution_count": 6,
   "metadata": {},
   "outputs": [
    {
     "name": "stderr",
     "output_type": "stream",
     "text": [
      "D:\\Anaconda\\lib\\site-packages\\seaborn\\distributions.py:2551: FutureWarning: `distplot` is a deprecated function and will be removed in a future version. Please adapt your code to use either `displot` (a figure-level function with similar flexibility) or `histplot` (an axes-level function for histograms).\n",
      "  warnings.warn(msg, FutureWarning)\n",
      "D:\\Anaconda\\lib\\site-packages\\seaborn\\distributions.py:2551: FutureWarning: `distplot` is a deprecated function and will be removed in a future version. Please adapt your code to use either `displot` (a figure-level function with similar flexibility) or `histplot` (an axes-level function for histograms).\n",
      "  warnings.warn(msg, FutureWarning)\n"
     ]
    },
    {
     "data": {
      "text/plain": [
       "Text(0.5, 1.0, 'Scaled Data')"
      ]
     },
     "execution_count": 6,
     "metadata": {},
     "output_type": "execute_result"
    },
    {
     "data": {
      "image/png": "[encoded data removed]",
      "text/plain": [
       "<Figure size 1080x216 with 2 Axes>"
      ]
     },
     "metadata": {
      "needs_background": "light"
     },
     "output_type": "display_data"
    }
   ],
   "source": [
    "# plot\n",
    "\n",
    "fig, ax = plt.subplots(1,2,figsize=(15,3))\n",
    "sns.distplot(dataset.usd_goal_real,ax = ax[0])\n",
    "ax[0].set_title('Original Data')\n",
    "sns.distplot(scaled_data,ax = ax[1])\n",
    "ax[1].set_title('Scaled Data')"
   ]
  },
  {
   "cell_type": "markdown",
   "metadata": {},
   "source": [
    "After scaling, all values lie between 0 and 1 (you can read this in the horizontal axis of the second plot above, and we verify in the code cell below)."
   ]
  },
  {
   "cell_type": "code",
   "execution_count": 7,
   "metadata": {},
   "outputs": [
    {
     "name": "stdout",
     "output_type": "stream",
     "text": [
      "Original Data\n",
      "Preview:\n",
      "    usd_goal_real\n",
      "0        1533.95\n",
      "1       30000.00\n",
      "2       45000.00\n",
      "3        5000.00\n",
      "4       19500.00\n",
      "Minimum value: 0.01 \n",
      "Maximum value: 166361390.71\n",
      "______________________________\n",
      "Scaled Data\n",
      "Preview:\n",
      "    usd_goal_real\n",
      "0       0.000009\n",
      "1       0.000180\n",
      "2       0.000270\n",
      "3       0.000030\n",
      "4       0.000117\n",
      "Minimum value: 0.0 \n",
      "Maximum value: 1.0\n",
      "______________________________\n"
     ]
    }
   ],
   "source": [
    "print('Original Data\\nPreview:\\n',original_data.head())\n",
    "print('Minimum value:', float(original_data.min()),\n",
    "      '\\nMaximum value:', float(original_data.max()))\n",
    "print('_'*30)\n",
    "\n",
    "print('Scaled Data\\nPreview:\\n',scaled_data.head())\n",
    "print('Minimum value:', float(scaled_data.min()),\n",
    "      '\\nMaximum value:', float(scaled_data.max()))\n",
    "print('_'*30)"
   ]
  },
  {
   "cell_type": "markdown",
   "metadata": {},
   "source": [
    "We just scaled the \"usd_goal_real\" column. What about the \"goal\" column?"
   ]
  },
  {
   "cell_type": "code",
   "execution_count": 8,
   "metadata": {},
   "outputs": [],
   "source": [
    "# select usd_goal_real column\n",
    "original_goal_data = pd.DataFrame(dataset.goal)"
   ]
  },
  {
   "cell_type": "code",
   "execution_count": 9,
   "metadata": {},
   "outputs": [],
   "source": [
    "scaled_goal_data = minmax_scaling(original_goal_data,columns=['goal'])\n"
   ]
  },
  {
   "cell_type": "code",
   "execution_count": 10,
   "metadata": {},
   "outputs": [
    {
     "name": "stdout",
     "output_type": "stream",
     "text": [
      "Original Data\n",
      "Preview:\n",
      "       goal\n",
      "0   1000.0\n",
      "1  30000.0\n",
      "2  45000.0\n",
      "3   5000.0\n",
      "4  19500.0\n",
      "Minimum value: 0.01 \n",
      "Maximum value: 100000000.0\n",
      "______________________________\n",
      "Scaled Data\n",
      "Preview:\n",
      "        goal\n",
      "0  0.000010\n",
      "1  0.000300\n",
      "2  0.000450\n",
      "3  0.000050\n",
      "4  0.000195\n",
      "Minimum value: 0.0 \n",
      "Maximum value: 1.0\n",
      "______________________________\n"
     ]
    }
   ],
   "source": [
    "print('Original Data\\nPreview:\\n',original_goal_data.head())\n",
    "print('Minimum value:', float(original_goal_data.min()),\n",
    "      '\\nMaximum value:', float(original_goal_data.max()))\n",
    "print('_'*30)\n",
    "\n",
    "print('Scaled Data\\nPreview:\\n',scaled_goal_data.head())\n",
    "print('Minimum value:', float(scaled_goal_data.min()),\n",
    "      '\\nMaximum value:', float(scaled_goal_data.max()))\n",
    "print('_'*30)"
   ]
  },
  {
   "cell_type": "markdown",
   "metadata": {},
   "source": [
    "Now we will practice normalization. We begin by normalizing the amount of money pledged to each campaign."
   ]
  },
  {
   "cell_type": "code",
   "execution_count": 11,
   "metadata": {},
   "outputs": [],
   "source": [
    "# getting index value of all positive pledges\n",
    "index_positive_pledges = dataset.usd_pledged_real>0\n",
    "\n",
    "positive_pledges = dataset.usd_pledged_real.loc[index_positive_pledges]\n",
    "\n",
    "normalized_pledges = pd.Series(stats.boxcox(positive_pledges)[0],\n",
    "                              name='usd_pledged_real',index=positive_pledges.index)"
   ]
  },
  {
   "cell_type": "code",
   "execution_count": 12,
   "metadata": {},
   "outputs": [
    {
     "name": "stderr",
     "output_type": "stream",
     "text": [
      "D:\\Anaconda\\lib\\site-packages\\seaborn\\distributions.py:2551: FutureWarning: `distplot` is a deprecated function and will be removed in a future version. Please adapt your code to use either `displot` (a figure-level function with similar flexibility) or `histplot` (an axes-level function for histograms).\n",
      "  warnings.warn(msg, FutureWarning)\n",
      "D:\\Anaconda\\lib\\site-packages\\seaborn\\distributions.py:2551: FutureWarning: `distplot` is a deprecated function and will be removed in a future version. Please adapt your code to use either `displot` (a figure-level function with similar flexibility) or `histplot` (an axes-level function for histograms).\n",
      "  warnings.warn(msg, FutureWarning)\n"
     ]
    },
    {
     "data": {
      "text/plain": [
       "Text(0.5, 1.0, 'Normalized Data')"
      ]
     },
     "execution_count": 12,
     "metadata": {},
     "output_type": "execute_result"
    },
    {
     "data": {
      "image/png": "[encoded data removed]",
      "text/plain": [
       "<Figure size 1080x216 with 2 Axes>"
      ]
     },
     "metadata": {
      "needs_background": "light"
     },
     "output_type": "display_data"
    }
   ],
   "source": [
    "# plot to compare\n",
    "\n",
    "fig,ax = plt.subplots(1,2,figsize=(15,3))\n",
    "sns.distplot(positive_pledges,ax = ax[0])\n",
    "ax[0].set_title('Original Data')\n",
    "sns.distplot(normalized_pledges,ax = ax[1])\n",
    "ax[1].set_title('Normalized Data')"
   ]
  },
  {
   "cell_type": "markdown",
   "metadata": {},
   "source": [
    "Now we will do this with pledge column as well"
   ]
  },
  {
   "cell_type": "code",
   "execution_count": 13,
   "metadata": {},
   "outputs": [],
   "source": [
    "positive_pledge_index = dataset.pledged>0\n",
    "positive_pledge = dataset.pledged.loc[positive_pledge_index]\n",
    "normalized_pledge= pd.Series(stats.boxcox(positive_pledges)[0],\n",
    "                              name='pledged',index = positive_pledge.index)"
   ]
  },
  {
   "cell_type": "code",
   "execution_count": 14,
   "metadata": {},
   "outputs": [
    {
     "name": "stderr",
     "output_type": "stream",
     "text": [
      "D:\\Anaconda\\lib\\site-packages\\seaborn\\distributions.py:2551: FutureWarning: `distplot` is a deprecated function and will be removed in a future version. Please adapt your code to use either `displot` (a figure-level function with similar flexibility) or `histplot` (an axes-level function for histograms).\n",
      "  warnings.warn(msg, FutureWarning)\n",
      "D:\\Anaconda\\lib\\site-packages\\seaborn\\distributions.py:2551: FutureWarning: `distplot` is a deprecated function and will be removed in a future version. Please adapt your code to use either `displot` (a figure-level function with similar flexibility) or `histplot` (an axes-level function for histograms).\n",
      "  warnings.warn(msg, FutureWarning)\n"
     ]
    },
    {
     "data": {
      "text/plain": [
       "Text(0.5, 1.0, 'Normalized Data')"
      ]
     },
     "execution_count": 14,
     "metadata": {},
     "output_type": "execute_result"
    },
    {
     "data": {
      "image/png": "[encoded data removed]",
      "text/plain": [
       "<Figure size 1080x216 with 2 Axes>"
      ]
     },
     "metadata": {
      "needs_background": "light"
     },
     "output_type": "display_data"
    }
   ],
   "source": [
    "# plot to compare\n",
    "\n",
    "fig,ax = plt.subplots(1,2,figsize=(15,3))\n",
    "sns.distplot(positive_pledge,ax = ax[0])\n",
    "ax[0].set_title('Original Data')\n",
    "sns.distplot(normalized_pledge,ax = ax[1])\n",
    "ax[1].set_title('Normalized Data')"
   ]
  },
  {
   "cell_type": "code",
   "execution_count": 15,
   "metadata": {},
   "outputs": [
    {
     "name": "stdout",
     "output_type": "stream",
     "text": [
      "Original Data\n",
      "Preview:\n",
      " 1     2421.0\n",
      "2      220.0\n",
      "3        1.0\n",
      "4     1283.0\n",
      "5    52375.0\n",
      "Name: pledged, dtype: float64\n",
      "Minimum value: 1.0 \n",
      "Maximum value: 20338986.27\n",
      "______________________________\n",
      "Scaled Data\n",
      "Preview:\n",
      " 1    10.165142\n",
      "2     6.468598\n",
      "3     0.000000\n",
      "4     9.129277\n",
      "5    15.836853\n",
      "Name: pledged, dtype: float64\n",
      "Minimum value: -0.7779954122762203 \n",
      "Maximum value: 30.69054020451361\n",
      "______________________________\n"
     ]
    }
   ],
   "source": [
    "print('Original Data\\nPreview:\\n',positive_pledge.head())\n",
    "print('Minimum value:', float(positive_pledge.min()),\n",
    "      '\\nMaximum value:', float(positive_pledge.max()))\n",
    "print('_'*30)\n",
    "\n",
    "print('Scaled Data\\nPreview:\\n',normalized_pledge.head())\n",
    "print('Minimum value:', float(normalized_pledge.min()),\n",
    "      '\\nMaximum value:', float(normalized_pledge.max()))\n",
    "print('_'*30)"
   ]
  },
  {
   "cell_type": "code",
   "execution_count": null,
   "metadata": {},
   "outputs": [],
   "source": []
  },
  {
   "cell_type": "code",
   "execution_count": null,
   "metadata": {},
   "outputs": [],
   "source": []
  }
 ],
 "metadata": {
  "kernelspec": {
   "display_name": "Python 3",
   "language": "python",
   "name": "python3"
  },
  "language_info": {
   "codemirror_mode": {
    "name": "ipython",
    "version": 3
   },
   "file_extension": ".py",
   "mimetype": "text/x-python",
   "name": "python",
   "nbconvert_exporter": "python",
   "pygments_lexer": "ipython3",
   "version": "3.8.5"
  }
 },
 "nbformat": 4,
 "nbformat_minor": 4
}
